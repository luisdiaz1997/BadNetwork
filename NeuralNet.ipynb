{
 "cells": [
  {
   "cell_type": "code",
   "execution_count": 18,
   "metadata": {},
   "outputs": [],
   "source": [
    "import numpy as np\n",
    "import glob\n",
    "import pandas as pd\n",
    "import matplotlib.image as img\n",
    "import matplotlib.pyplot as plt\n",
    "from minpy.context import cpu, gpu"
   ]
  },
  {
   "cell_type": "code",
   "execution_count": 19,
   "metadata": {},
   "outputs": [],
   "source": [
    "class Neural_Net:\n",
    "    \n",
    "    def __init__(self):\n",
    "        self.layers = list()\n",
    "        \n",
    "    def add_layer(self, neurons, activation = 'sigmoid'):\n",
    "        self.layers.append( Layer(neurons, activation = activation))\n",
    "        \n",
    "    def set_input(self, inp):\n",
    "        self.inp = inp\n",
    "        self.train_inp = inp\n",
    "        self.feed_forward()\n",
    "        \n",
    "    def set_output(self, out):\n",
    "        self.out = out\n",
    "        self.train_out = out\n",
    "        \n",
    "        \n",
    "    def feed_forward(self):\n",
    "        self.layers[0].set_input(self.train_inp)\n",
    "        for i in range(1, len(self.layers) ):\n",
    "            (self.layers[i]).set_input(self.layers[i-1].output)\n",
    "        \n",
    "        \n",
    "        \n",
    "    def back_propagation(self, lr):\n",
    "        tensor = list()\n",
    "        tensor.append(self.diff())\n",
    "        for i in reversed(range(0, len(self.layers) - 1)):\n",
    "            \n",
    "            tensor.append(np.multiply(\n",
    "                np.matmul(tensor[-1], np.transpose(self.layers[i+1].weights)),\n",
    "                self.layers[i].d_output\n",
    "                ))\n",
    "        \n",
    "        tensor = tensor[::-1]\n",
    "        for i in range(len(tensor)):\n",
    "            self.layers[i].weights -= lr*np.matmul(np.transpose(self.layers[i].inp), tensor[i])\n",
    "            self.layers[i].bias -= lr*np.matmul(np.transpose(self.layers[i].A), tensor[i])\n",
    "        \n",
    "    def train(self, epochs, lr = 1, batch_size = None):\n",
    "        if batch_size is None:\n",
    "            batch_size = self.inp.shape[0]\n",
    "        partitions = int(self.inp.shape[0]/batch_size)\n",
    "        limits = np.linspace(0, self.inp.shape[0], partitions + 1, dtype= int)\n",
    "        \n",
    "            \n",
    "        for epoch in range(epochs):\n",
    "            print('epoch = ', epoch)\n",
    "            for partition in range(partitions):\n",
    "                \n",
    "                \n",
    "                self.train_inp = self.inp[int(limits[partition]):int(limits[partition + 1])]\n",
    "                self.train_out = self.out[int(limits[partition]):int(limits[partition + 1])]\n",
    "                for j in range(1000):\n",
    "                    self.feed_forward()\n",
    "                    self.back_propagation(lr)\n",
    "            \n",
    "            self.train_inp = self.inp\n",
    "            self.train_out = self.out\n",
    "            self.feed_forward()\n",
    "            \n",
    "            self.cost = np.sum((self.diff()**2))\n",
    "            print(self.cost)\n",
    "            \n",
    "    def diff(self):\n",
    "        return self.layers[-1].output - self.train_out\n",
    "        "
   ]
  },
  {
   "cell_type": "code",
   "execution_count": 20,
   "metadata": {},
   "outputs": [],
   "source": [
    "class Layer:\n",
    "    \n",
    "    @staticmethod\n",
    "    def sigmoid(x):\n",
    "        return 1/(1+np.exp(-x))\n",
    "    \n",
    "    @staticmethod\n",
    "    def relu(x):\n",
    "        \n",
    "        return np.where(x < 0, 0, x )\n",
    "    \n",
    "    @staticmethod\n",
    "    def d_sigmoid(x):\n",
    "        a = Layer.sigmoid(x)\n",
    "        return a*(1-a)\n",
    "    \n",
    "    @staticmethod\n",
    "    def d_relu(x):\n",
    "        \n",
    "        return np.where(x<0, 0, 1)\n",
    "    \n",
    "    function = { 'sigmoid': (lambda x: Layer.sigmoid(x)), 'relu': (lambda x: Layer.relu(x))}\n",
    "    \n",
    "    d_function = { 'sigmoid': (lambda x: Layer.d_sigmoid(x)), 'relu': (lambda x: Layer.d_relu(x)) }\n",
    "\n",
    "\n",
    "    def __init__(self, neurons, inp = None, activation = 'sigmoid'):\n",
    "        self.init = False\n",
    "        self.neurons = neurons\n",
    "        self.inp = self.set_input(inp)\n",
    "        self.activation = activation\n",
    "        \n",
    "        \n",
    "    def set_input(self, inp):\n",
    "        if (inp is None):\n",
    "            return None\n",
    "        \n",
    "        if (self.init == False):\n",
    "            self.weights = np.random.rand(inp.shape[1], self.neurons)\n",
    "            print (self.weights)\n",
    "            self.bias = np.random.rand(1, self.neurons)\n",
    "            \n",
    "            self.init = True\n",
    "            \n",
    "        self.inp = inp\n",
    "        self.A = np.ones((inp.shape[0], 1))\n",
    "        self.linear = np.add(\n",
    "                        np.matmul(self.inp, self.weights), \n",
    "                        np.matmul(self.A, self.bias)\n",
    "                        )\n",
    "        self.output = Layer.function[self.activation](self.linear)\n",
    "        self.d_output = Layer.d_function[self.activation](self.linear)"
   ]
  },
  {
   "cell_type": "markdown",
   "metadata": {},
   "source": [
    "# Define Model"
   ]
  },
  {
   "cell_type": "code",
   "execution_count": 21,
   "metadata": {},
   "outputs": [],
   "source": [
    "a = Neural_Net()"
   ]
  },
  {
   "cell_type": "markdown",
   "metadata": {},
   "source": [
    "## Build Model parameters"
   ]
  },
  {
   "cell_type": "code",
   "execution_count": 22,
   "metadata": {},
   "outputs": [],
   "source": [
    "\n",
    "a.add_layer(8, activation = 'relu')\n",
    "a.add_layer(1, activation = 'sigmoid')"
   ]
  },
  {
   "cell_type": "markdown",
   "metadata": {},
   "source": [
    "# Let's make and XNOR  gate"
   ]
  },
  {
   "cell_type": "code",
   "execution_count": 23,
   "metadata": {},
   "outputs": [],
   "source": [
    "inp = np.array([[0, 0], [0, 1], [1,0], [1,1]])"
   ]
  },
  {
   "cell_type": "code",
   "execution_count": 24,
   "metadata": {},
   "outputs": [],
   "source": [
    "out = np.array([[1], [0], [0], [1]])"
   ]
  },
  {
   "cell_type": "code",
   "execution_count": 25,
   "metadata": {},
   "outputs": [
    {
     "name": "stdout",
     "output_type": "stream",
     "text": [
      "[[0.58889288 0.47376254 0.42974153 0.51710492 0.8060513  0.17515864\n",
      "  0.73220198 0.18879887]\n",
      " [0.18107061 0.98931447 0.71781734 0.91544777 0.07144451 0.88069144\n",
      "  0.89127948 0.77244956]]\n",
      "[[0.03530982]\n",
      " [0.28301188]\n",
      " [0.39276928]\n",
      " [0.32421123]\n",
      " [0.73555271]\n",
      " [0.50611345]\n",
      " [0.6732969 ]\n",
      " [0.27859633]]\n"
     ]
    }
   ],
   "source": [
    "a.set_input(inp)\n",
    "a.set_output(out)"
   ]
  },
  {
   "cell_type": "code",
   "execution_count": 26,
   "metadata": {},
   "outputs": [
    {
     "name": "stdout",
     "output_type": "stream",
     "text": [
      "epoch =  0\n",
      "0.9963036315786136\n",
      "epoch =  1\n",
      "0.9879418622594132\n",
      "epoch =  2\n",
      "0.9736549014694793\n",
      "epoch =  3\n",
      "0.9476677467595016\n",
      "epoch =  4\n",
      "0.9010690525487753\n",
      "epoch =  5\n",
      "0.8243300421344222\n",
      "epoch =  6\n",
      "0.7325667177090589\n",
      "epoch =  7\n",
      "0.6311354488259606\n",
      "epoch =  8\n",
      "0.5286144977062928\n",
      "epoch =  9\n",
      "0.43261754298066907\n"
     ]
    }
   ],
   "source": [
    "a.train(epochs = 10, lr = 1e-3)"
   ]
  },
  {
   "cell_type": "code",
   "execution_count": 27,
   "metadata": {},
   "outputs": [
    {
     "data": {
      "text/plain": [
       "array([[ 0.79208751,  0.60456961,  0.42455054,  0.58953859,  0.48712444,\n",
       "         1.41549622,  0.61832473,  0.19256353],\n",
       "       [ 0.25237951,  1.01867984,  0.69075229,  0.91743683, -0.10212221,\n",
       "         1.41622698,  0.80164346,  0.75624703]])"
      ]
     },
     "execution_count": 27,
     "metadata": {},
     "output_type": "execute_result"
    }
   ],
   "source": [
    "a.layers[0].weights"
   ]
  },
  {
   "cell_type": "code",
   "execution_count": 28,
   "metadata": {},
   "outputs": [
    {
     "data": {
      "text/plain": [
       "array([[1.],\n",
       "       [0.],\n",
       "       [0.],\n",
       "       [1.]])"
      ]
     },
     "execution_count": 28,
     "metadata": {},
     "output_type": "execute_result"
    }
   ],
   "source": [
    "np.round(a.layers[1].output, 0)"
   ]
  },
  {
   "cell_type": "markdown",
   "metadata": {},
   "source": [
    "## Let's use the mnist dataset"
   ]
  },
  {
   "cell_type": "code",
   "execution_count": 29,
   "metadata": {},
   "outputs": [],
   "source": [
    "import tensorflow as tf\n",
    "\n",
    "mnist = tf.keras.datasets.mnist\n",
    "\n"
   ]
  },
  {
   "cell_type": "code",
   "execution_count": 30,
   "metadata": {},
   "outputs": [],
   "source": [
    "(x_train, y_train),(x_test, y_test) = mnist.load_data()\n",
    "x_train, x_test = x_train.reshape(-1, 28*28) / 255.0, x_test.reshape(-1, 28*28) / 255.0\n",
    "y_train = np.transpose(np.array([np.where(y_train == element, 1, 0) for element in np.unique(y_train)]))\n",
    "y_test = np.transpose(np.array([np.where(y_test == element, 1, 0) for element in np.unique(y_test)]))"
   ]
  },
  {
   "cell_type": "code",
   "execution_count": 31,
   "metadata": {},
   "outputs": [
    {
     "data": {
      "text/plain": [
       "array([1, 0, 0, 0, 0, 0, 0, 0, 0, 0])"
      ]
     },
     "execution_count": 31,
     "metadata": {},
     "output_type": "execute_result"
    }
   ],
   "source": [
    "y_train[1]"
   ]
  },
  {
   "cell_type": "code",
   "execution_count": 32,
   "metadata": {
    "scrolled": true
   },
   "outputs": [
    {
     "data": {
      "text/plain": [
       "<matplotlib.image.AxesImage at 0x22cbb67e978>"
      ]
     },
     "execution_count": 32,
     "metadata": {},
     "output_type": "execute_result"
    },
    {
     "data": {
      "image/png": "[encoded data removed]",
      "text/plain": [
       "<Figure size 432x288 with 1 Axes>"
      ]
     },
     "metadata": {
      "needs_background": "light"
     },
     "output_type": "display_data"
    }
   ],
   "source": [
    "plt.imshow(x_train[1].reshape(28, 28))"
   ]
  },
  {
   "cell_type": "markdown",
   "metadata": {},
   "source": [
    "## Use GPU "
   ]
  },
  {
   "cell_type": "code",
   "execution_count": 33,
   "metadata": {
    "scrolled": true
   },
   "outputs": [
    {
     "name": "stdout",
     "output_type": "stream",
     "text": [
      "[[0.8554306  0.01817834 0.80255087 ... 0.01298254 0.33946762 0.32260299]\n",
      " [0.24754352 0.82735689 0.63810578 ... 0.54181062 0.49049085 0.8923982 ]\n",
      " [0.20616849 0.1075222  0.31719937 ... 0.42623588 0.33633214 0.75754921]\n",
      " ...\n",
      " [0.87316252 0.24680865 0.04468423 ... 0.59841681 0.68312849 0.02899333]\n",
      " [0.22556358 0.75836759 0.84071409 ... 0.18099462 0.05642617 0.8972032 ]\n",
      " [0.46424953 0.50116017 0.97124436 ... 0.53323184 0.44233326 0.7414268 ]]\n",
      "epoch =  0\n",
      "[11409.793]\n",
      "epoch =  1\n",
      "[10494.833]\n"
     ]
    }
   ],
   "source": [
    "import minpy.numpy as np\n",
    "from minpy.context import cpu, gpu\n",
    "import time\n",
    "with gpu(0):\n",
    "    model = Neural_Net()\n",
    "    model.add_layer(10, activation = 'sigmoid')\n",
    "    model.set_input(np.array(x_train))\n",
    "    model.set_output(np.array(y_train))\n",
    "    t2 = time.time()\n",
    "    model.train(lr = 1e-5, epochs = 2, batch_size = None)\n",
    "    t3 = time.time()"
   ]
  },
  {
   "cell_type": "markdown",
   "metadata": {},
   "source": [
    "# Use CPU "
   ]
  },
  {
   "cell_type": "code",
   "execution_count": 34,
   "metadata": {},
   "outputs": [
    {
     "name": "stdout",
     "output_type": "stream",
     "text": [
      "[[0.39802325 0.4449126  0.96094542 ... 0.98182622 0.40138386 0.25742123]\n",
      " [0.67000866 0.38579929 0.67823219 ... 0.98468189 0.97933294 0.88752439]\n",
      " [0.71458113 0.89763371 0.31099804 ... 0.87920508 0.52658276 0.16994142]\n",
      " ...\n",
      " [0.61983326 0.7223776  0.7621549  ... 0.03037107 0.38009689 0.20837013]\n",
      " [0.9279087  0.20387268 0.44302711 ... 0.05527384 0.24797472 0.76075655]\n",
      " [0.10980709 0.29190936 0.29814861 ... 0.86431775 0.0392903  0.07748252]]\n",
      "epoch =  0\n",
      "11413.97518886999\n",
      "epoch =  1\n",
      "10501.94518629532\n"
     ]
    }
   ],
   "source": [
    "import numpy as np\n",
    "import time\n",
    "model = Neural_Net()\n",
    "model.add_layer(10, activation = 'sigmoid')\n",
    "model.set_input(x_train)\n",
    "model.set_output(y_train)\n",
    "t0 = time.time()\n",
    "model.train(lr = 1e-5, epochs = 2, batch_size = None)\n",
    "t1 = time.time()"
   ]
  },
  {
   "cell_type": "code",
   "execution_count": 35,
   "metadata": {},
   "outputs": [
    {
     "name": "stdout",
     "output_type": "stream",
     "text": [
      "run on cpu: 233.396916 s/iter\n",
      "run on gpu: 359.417505 s/iter\n"
     ]
    }
   ],
   "source": [
    "print(\"run on cpu: %.6f s/iter\" % ((t1 - t0)))\n",
    "print(\"run on gpu: %.6f s/iter\" % ((t3 - t2)))"
   ]
  },
  {
   "cell_type": "markdown",
   "metadata": {},
   "source": [
    "## Accuracy "
   ]
  },
  {
   "cell_type": "code",
   "execution_count": 36,
   "metadata": {},
   "outputs": [
    {
     "name": "stdout",
     "output_type": "stream",
     "text": [
      "Train Accuracy = 0.9135333333333333\n"
     ]
    }
   ],
   "source": [
    "model.set_input(x_train)\n",
    "model.set_output(y_train)\n",
    "model.feed_forward()\n",
    "predict = np.argmax(model.layers[-1].output, axis=1)\n",
    "y = np.argmax(y_train, axis=1)\n",
    "accuracy = (y == predict)\n",
    "score = sum(np.where(accuracy == True, 1, 0))/len(y)\n",
    "print('Train Accuracy =', score)"
   ]
  },
  {
   "cell_type": "code",
   "execution_count": 37,
   "metadata": {},
   "outputs": [
    {
     "name": "stdout",
     "output_type": "stream",
     "text": [
      "Test Accuracy = 0.9162\n"
     ]
    }
   ],
   "source": [
    "model.set_input(x_test)\n",
    "model.set_output(y_test)\n",
    "model.feed_forward()\n",
    "predict = np.argmax(model.layers[-1].output, axis=1)\n",
    "y = np.argmax(y_test, axis=1)\n",
    "accuracy = (y == predict)\n",
    "score = sum(np.where(accuracy == True, 1, 0))/len(y)\n",
    "print('Test Accuracy =', score)"
   ]
  },
  {
   "cell_type": "code",
   "execution_count": null,
   "metadata": {},
   "outputs": [],
   "source": []
  }
 ],
 "metadata": {
  "kernelspec": {
   "display_name": "Python 3",
   "language": "python",
   "name": "python3"
  },
  "language_info": {
   "codemirror_mode": {
    "name": "ipython",
    "version": 3
   },
   "file_extension": ".py",
   "mimetype": "text/x-python",
   "name": "python",
   "nbconvert_exporter": "python",
   "pygments_lexer": "ipython3",
   "version": "3.7.3"
  }
 },
 "nbformat": 4,
 "nbformat_minor": 2
}
